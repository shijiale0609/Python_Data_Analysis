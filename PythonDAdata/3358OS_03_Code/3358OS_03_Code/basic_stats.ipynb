{
 "cells": [
  {
   "cell_type": "code",
   "execution_count": 10,
   "metadata": {},
   "outputs": [
    {
     "name": "stdout",
     "output_type": "stream",
     "text": [
      "Max method 50.0\n",
      "Max function 50.0\n",
      "Min method 0.0\n",
      "Min function 0.0\n",
      "Mean method 3.278703703703704\n",
      "Mean function 3.278703703703704\n",
      "Std method 5.763320736537964\n",
      "Std function 5.763320736537964\n",
      "Median 1.8\n",
      "Score at percentile 50 1.8\n"
     ]
    }
   ],
   "source": [
    "import numpy as np\n",
    "from scipy.stats import scoreatpercentile\n",
    "\n",
    "data = np.loadtxt(\"mdrtb_2012.csv\", delimiter=',', usecols=(1,), skiprows=1, unpack=True)\n",
    "\n",
    "print (\"Max method\", data.max())\n",
    "print (\"Max function\", np.max(data))\n",
    "\n",
    "print (\"Min method\", data.min())\n",
    "print (\"Min function\", np.min(data))\n",
    "\n",
    "print (\"Mean method\", data.mean())\n",
    "print (\"Mean function\", np.mean(data))\n",
    "\n",
    "print (\"Std method\", data.std())\n",
    "print (\"Std function\", np.std(data))\n",
    "\n",
    "print (\"Median\", np.median(data))\n",
    "print (\"Score at percentile 50\", scoreatpercentile(data, 50))\n",
    "\n"
   ]
  },
  {
   "cell_type": "code",
   "execution_count": null,
   "metadata": {},
   "outputs": [],
   "source": []
  }
 ],
 "metadata": {
  "kernelspec": {
   "display_name": "Python 3",
   "language": "python",
   "name": "python3"
  },
  "language_info": {
   "codemirror_mode": {
    "name": "ipython",
    "version": 3
   },
   "file_extension": ".py",
   "mimetype": "text/x-python",
   "name": "python",
   "nbconvert_exporter": "python",
   "pygments_lexer": "ipython3",
   "version": "3.7.1"
  },
  "toc": {
   "base_numbering": 1,
   "nav_menu": {},
   "number_sections": true,
   "sideBar": true,
   "skip_h1_title": false,
   "title_cell": "Table of Contents",
   "title_sidebar": "Contents",
   "toc_cell": false,
   "toc_position": {},
   "toc_section_display": true,
   "toc_window_display": false
  }
 },
 "nbformat": 4,
 "nbformat_minor": 2
}

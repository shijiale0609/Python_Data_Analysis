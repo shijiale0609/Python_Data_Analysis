{
 "cells": [
  {
   "cell_type": "code",
   "execution_count": 3,
   "metadata": {},
   "outputs": [
    {
     "name": "stdout",
     "output_type": "stream",
     "text": [
      "NumPy version 1.15.4\n",
      "SciPy version 1.1.0\n",
      "Matplotlib version 3.0.2\n",
      "numpy.compat DESCRIPTION This module contains duplicated code from Python itself or 3rd party extensions, which may be included for the following reasons\n",
      "numpy.core DESCRIPTION Functions - array - NumPy Array construction - zeros - Return an array of all zeros - empty - Return an uninitialized array - sh\n",
      "numpy.distutils \n",
      "numpy.doc DESCRIPTION Topical documentation  The following topics are available: - basics - broadcasting - byteswapping - constants - creation - gloss\n",
      "numpy.f2py \n",
      "numpy.fft DESCRIPTION Discrete Fourier Transform (:mod:`numpy.fft`)  .. currentmodule:: numpy.fft Standard FFTs ------------- .. autosummary:: :toctre\n",
      "numpy.lib DESCRIPTION Basic functions used by several sub-packages and useful to have in the main name-space. Type Handling -------------   iscomplexo\n",
      "numpy.linalg DESCRIPTION Core Linear Algebra Tools ------------------------- Linear algebra basics: - norm Vector or matrix norm - inv Inverse of a squar\n",
      "numpy.ma DESCRIPTION  Masked Arrays  Arrays sometimes contain invalid or missing data. When doing operations on such arrays, we wish to suppress inva\n",
      "numpy.matrixlib \n",
      "numpy.polynomial DESCRIPTION Within the documentation for this sub-package, a \"finite power series,\" i.e., a polynomial (also referred to simply as a \"series\n",
      "numpy.random DESCRIPTION  Random Number Generation    Utility functions  random_sample Uniformly distributed floats over ``[0, 1)``. random Alias for `ra\n",
      "numpy.random_intel \n",
      "numpy.testing DESCRIPTION This single module should provide all the common functionality for numpy tests in a single location, so that test scripts can ju\n",
      "numpy.tests \n",
      " \n",
      " \n",
      " \n",
      "scipy._build_utils \n",
      "scipy._lib DESCRIPTION Module containing private utility functions  The ``scipy._lib`` namespace is empty (for now). Tests for all utilities in submodu\n",
      "scipy.cluster DESCRIPTION  Clustering package (:mod:`scipy.cluster`)  .. currentmodule:: scipy.cluster :mod:`scipy.cluster.vq` Clustering algorithms are u\n",
      "scipy.constants DESCRIPTION  Constants (:mod:`scipy.constants`)  .. currentmodule:: scipy.constants Physical and mathematical constants and units. Mathemati\n",
      "scipy.fftpack DESCRIPTION  Discrete Fourier transforms (:mod:`scipy.fftpack`)  Fast Fourier Transforms (FFTs)  .. autosummary:: :toctree: generated/ fft -\n",
      "scipy.integrate DESCRIPTION  Integration and ODEs (:mod:`scipy.integrate`)  .. currentmodule:: scipy.integrate Integrating functions, given function object \n",
      "scipy.interpolate DESCRIPTION  Interpolation (:mod:`scipy.interpolate`)  .. currentmodule:: scipy.interpolate Sub-package for objects used in interpolation. A\n",
      "scipy.io DESCRIPTION  Input and output (:mod:`scipy.io`)  .. currentmodule:: scipy.io SciPy has many modules, classes, and functions available to rea\n",
      "scipy.linalg DESCRIPTION  Linear algebra (:mod:`scipy.linalg`)  .. currentmodule:: scipy.linalg Linear algebra functions. .. seealso:: `numpy.linalg` for\n",
      "scipy.misc DESCRIPTION  Miscellaneous routines (:mod:`scipy.misc`)  .. currentmodule:: scipy.misc Various utilities that don't have another home. Note \n",
      "scipy.ndimage DESCRIPTION  Multi-dimensional image processing (:mod:`scipy.ndimage`)  .. currentmodule:: scipy.ndimage This package contains various funct\n",
      "scipy.odr DESCRIPTION  Orthogonal distance regression (:mod:`scipy.odr`)  .. currentmodule:: scipy.odr Package Content  .. autosummary:: :toctree: gen\n",
      "scipy.optimize DESCRIPTION  Optimization and root finding (:mod:`scipy.optimize`)  .. currentmodule:: scipy.optimize Optimization  Local Optimization -----\n",
      "scipy.signal DESCRIPTION  Signal processing (:mod:`scipy.signal`)  Convolution  .. autosummary:: :toctree: generated/ convolve -- N-dimensional convoluti\n",
      "scipy.sparse DESCRIPTION  Sparse matrices (:mod:`scipy.sparse`)  .. currentmodule:: scipy.sparse SciPy 2-D sparse matrix package for numeric data. Conten\n",
      "scipy.spatial DESCRIPTION  Spatial algorithms and data structures (:mod:`scipy.spatial`)  .. currentmodule:: scipy.spatial Nearest-neighbor Queries  .. au\n",
      "scipy.special DESCRIPTION  Special functions (:mod:`scipy.special`)  .. module:: scipy.special Nearly all of the functions below are universal functions a\n",
      "scipy.stats DESCRIPTION  Statistical functions (:mod:`scipy.stats`)  .. module:: scipy.stats This module contains a large number of probability distribu\n"
     ]
    }
   ],
   "source": [
    "import pkgutil as pu\n",
    "import numpy as np\n",
    "import matplotlib as mpl\n",
    "import scipy as sp\n",
    "import pydoc\n",
    "\n",
    "\n",
    "print (\"NumPy version\", np.__version__)\n",
    "print (\"SciPy version\", sp.__version__)\n",
    "print (\"Matplotlib version\", mpl.__version__)\n",
    "\n",
    "def clean(astr):\n",
    "   s = astr\n",
    "   # remove multiple spaces\n",
    "   s = ' '.join(s.split())\n",
    "   s = s.replace('=','')\n",
    "\n",
    "   return s\n",
    "\n",
    "def print_desc(prefix, pkg_path):\n",
    "   for pkg in pu.iter_modules(path=pkg_path):\n",
    "      name = prefix + \".\" + pkg[1]\n",
    "\n",
    "      if pkg[2] == True:\n",
    "         try:\n",
    "            docstr = pydoc.plain(pydoc.render_doc(name))\n",
    "            docstr = clean(docstr)\n",
    "            start = docstr.find(\"DESCRIPTION\")\n",
    "            docstr = docstr[start: start + 140]\n",
    "            print (name, docstr)\n",
    "         except:\n",
    "            continue\n",
    "\n",
    "print_desc(\"numpy\", np.__path__)\n",
    "print (\" \")\n",
    "print (\" \")\n",
    "print (\" \")\n",
    "print_desc(\"scipy\", sp.__path__)\n",
    "\n"
   ]
  },
  {
   "cell_type": "code",
   "execution_count": null,
   "metadata": {},
   "outputs": [],
   "source": []
  }
 ],
 "metadata": {
  "kernelspec": {
   "display_name": "Python 3",
   "language": "python",
   "name": "python3"
  },
  "language_info": {
   "codemirror_mode": {
    "name": "ipython",
    "version": 3
   },
   "file_extension": ".py",
   "mimetype": "text/x-python",
   "name": "python",
   "nbconvert_exporter": "python",
   "pygments_lexer": "ipython3",
   "version": "3.7.1"
  },
  "toc": {
   "base_numbering": 1,
   "nav_menu": {},
   "number_sections": true,
   "sideBar": true,
   "skip_h1_title": false,
   "title_cell": "Table of Contents",
   "title_sidebar": "Contents",
   "toc_cell": false,
   "toc_position": {},
   "toc_section_display": true,
   "toc_window_display": false
  }
 },
 "nbformat": 4,
 "nbformat_minor": 2
}

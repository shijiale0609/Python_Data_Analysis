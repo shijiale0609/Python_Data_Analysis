{
 "cells": [
  {
   "cell_type": "code",
   "execution_count": null,
   "metadata": {},
   "outputs": [],
   "source": [
    "from pandas.io.parsers import read_csv\n",
    "import numpy as np\n",
    "\n",
    "df = read_csv(\"WHO_first9cols.csv\")\n",
    "country_col = df[\"CountryID\"]#df[\"Country\"]\n",
    "print (\"Type df\", type(df))\n",
    "print (\"Type country col\", type(country_col))\n",
    "\n",
    "print (\"Series shape\", country_col.shape)\n",
    "print (\"Series index\", country_col.index)\n",
    "print (\"Series values\", country_col.values)\n",
    "print (\"Series name\", country_col.name)\n",
    "\n",
    "print (\"Last 2 countries\", country_col[-2:])\n",
    "print (\"Last 2 countries type\", type(country_col[-2:]))\n",
    "\n",
    "#print (\"df signs\", np.sign(df))\n",
    "last_col = df.columns[-1]\n",
    "print (\"Last df column signs\", last_col, np.sign(df[last_col]))\n",
    "\n",
    "print (np.sum(df[last_col] - df[last_col].values))\n",
    "\n",
    "print (df.count())\n",
    "print (df.describe())\n",
    "print (df.mad())\n",
    "print (df[\"CountryID\"].mad())\n",
    "print (df.median())\n",
    "print (df.min())\n",
    "print (df.max())\n",
    "print (df.mode())\n",
    "print (df.std())\n",
    "print (df.var())\n",
    "print (df.skew())\n",
    "print (df.kurt())"
   ]
  }
 ],
 "metadata": {
  "kernelspec": {
   "display_name": "Python 3",
   "language": "python",
   "name": "python3"
  },
  "language_info": {
   "codemirror_mode": {
    "name": "ipython",
    "version": 3
   },
   "file_extension": ".py",
   "mimetype": "text/x-python",
   "name": "python",
   "nbconvert_exporter": "python",
   "pygments_lexer": "ipython3",
   "version": "3.7.1"
  },
  "toc": {
   "base_numbering": 1,
   "nav_menu": {},
   "number_sections": true,
   "sideBar": true,
   "skip_h1_title": false,
   "title_cell": "Table of Contents",
   "title_sidebar": "Contents",
   "toc_cell": false,
   "toc_position": {},
   "toc_section_display": true,
   "toc_window_display": false
  }
 },
 "nbformat": 4,
 "nbformat_minor": 2
}

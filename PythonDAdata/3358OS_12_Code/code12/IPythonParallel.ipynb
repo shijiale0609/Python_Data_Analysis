{
 "metadata": {
  "name": ""
 },
 "nbformat": 3,
 "nbformat_minor": 0,
 "worksheets": [
  {
   "cells": [
    {
     "cell_type": "code",
     "collapsed": false,
     "input": [
      "from IPython.parallel import Client\n",
      "import statsmodels.api as sm"
     ],
     "language": "python",
     "metadata": {},
     "outputs": [],
     "prompt_number": 1
    },
    {
     "cell_type": "code",
     "collapsed": false,
     "input": [
      "data_loader = sm.datasets.sunspots.load_pandas()\n",
      "vals = data_loader.data['SUNACTIVITY'].values\n",
      "glob_mean = vals.mean()\n",
      "glob_mean"
     ],
     "language": "python",
     "metadata": {},
     "outputs": [
      {
       "metadata": {},
       "output_type": "pyout",
       "prompt_number": 2,
       "text": [
        "49.752103559870541"
       ]
      }
     ],
     "prompt_number": 2
    },
    {
     "cell_type": "code",
     "collapsed": false,
     "input": [
      "c = Client(profile='mpi')"
     ],
     "language": "python",
     "metadata": {},
     "outputs": [],
     "prompt_number": 3
    },
    {
     "cell_type": "code",
     "collapsed": false,
     "input": [
      "view = c[:]"
     ],
     "language": "python",
     "metadata": {},
     "outputs": [],
     "prompt_number": 4
    },
    {
     "cell_type": "code",
     "collapsed": false,
     "input": [
      "view.activate()"
     ],
     "language": "python",
     "metadata": {},
     "outputs": [],
     "prompt_number": 5
    },
    {
     "cell_type": "code",
     "collapsed": false,
     "input": [
      "view.run('mpi_ipython.py')"
     ],
     "language": "python",
     "metadata": {},
     "outputs": [
      {
       "metadata": {},
       "output_type": "pyout",
       "prompt_number": 6,
       "text": [
        "<AsyncResult: execute>"
       ]
      }
     ],
     "prompt_number": 6
    },
    {
     "cell_type": "code",
     "collapsed": false,
     "input": [
      "view.scatter('a',np.arange(len(vals),dtype='int'))"
     ],
     "language": "python",
     "metadata": {},
     "outputs": [
      {
       "metadata": {},
       "output_type": "pyout",
       "prompt_number": 7,
       "text": [
        "<AsyncResult: scatter>"
       ]
      }
     ],
     "prompt_number": 7
    },
    {
     "cell_type": "code",
     "collapsed": false,
     "input": [
      "view['a']"
     ],
     "language": "python",
     "metadata": {},
     "outputs": [
      {
       "metadata": {},
       "output_type": "pyout",
       "prompt_number": 8,
       "text": [
        "[array([ 0,  1,  2,  3,  4,  5,  6,  7,  8,  9, 10, 11, 12, 13, 14, 15, 16,\n",
        "        17, 18, 19, 20, 21, 22, 23, 24, 25, 26, 27, 28, 29, 30, 31, 32, 33,\n",
        "        34, 35, 36, 37, 38]),\n",
        " array([39, 40, 41, 42, 43, 44, 45, 46, 47, 48, 49, 50, 51, 52, 53, 54, 55,\n",
        "        56, 57, 58, 59, 60, 61, 62, 63, 64, 65, 66, 67, 68, 69, 70, 71, 72,\n",
        "        73, 74, 75, 76, 77]),\n",
        " array([ 78,  79,  80,  81,  82,  83,  84,  85,  86,  87,  88,  89,  90,\n",
        "         91,  92,  93,  94,  95,  96,  97,  98,  99, 100, 101, 102, 103,\n",
        "        104, 105, 106, 107, 108, 109, 110, 111, 112, 113, 114, 115, 116]),\n",
        " array([117, 118, 119, 120, 121, 122, 123, 124, 125, 126, 127, 128, 129,\n",
        "        130, 131, 132, 133, 134, 135, 136, 137, 138, 139, 140, 141, 142,\n",
        "        143, 144, 145, 146, 147, 148, 149, 150, 151, 152, 153, 154, 155]),\n",
        " array([156, 157, 158, 159, 160, 161, 162, 163, 164, 165, 166, 167, 168,\n",
        "        169, 170, 171, 172, 173, 174, 175, 176, 177, 178, 179, 180, 181,\n",
        "        182, 183, 184, 185, 186, 187, 188, 189, 190, 191, 192, 193, 194]),\n",
        " array([195, 196, 197, 198, 199, 200, 201, 202, 203, 204, 205, 206, 207,\n",
        "        208, 209, 210, 211, 212, 213, 214, 215, 216, 217, 218, 219, 220,\n",
        "        221, 222, 223, 224, 225, 226, 227, 228, 229, 230, 231, 232]),\n",
        " array([233, 234, 235, 236, 237, 238, 239, 240, 241, 242, 243, 244, 245,\n",
        "        246, 247, 248, 249, 250, 251, 252, 253, 254, 255, 256, 257, 258,\n",
        "        259, 260, 261, 262, 263, 264, 265, 266, 267, 268, 269, 270]),\n",
        " array([271, 272, 273, 274, 275, 276, 277, 278, 279, 280, 281, 282, 283,\n",
        "        284, 285, 286, 287, 288, 289, 290, 291, 292, 293, 294, 295, 296,\n",
        "        297, 298, 299, 300, 301, 302, 303, 304, 305, 306, 307, 308])]"
       ]
      }
     ],
     "prompt_number": 8
    },
    {
     "cell_type": "code",
     "collapsed": false,
     "input": [
      "%px means = jackknife(a)"
     ],
     "language": "python",
     "metadata": {},
     "outputs": [
      {
       "metadata": {},
       "output_type": "pyout",
       "prompt_number": 9,
       "text": [
        "<AsyncResult: execute>"
       ]
      }
     ],
     "prompt_number": 9
    },
    {
     "cell_type": "code",
     "collapsed": false,
     "input": [
      "view['means']"
     ],
     "language": "python",
     "metadata": {},
     "outputs": [
      {
       "metadata": {},
       "output_type": "pyout",
       "prompt_number": 10,
       "text": [
        "[array([ 49.8974026 ,  49.87792208,  49.86168831,  49.83896104,\n",
        "         49.79675325,  49.72532468,  49.81948052,  49.8487013 ,\n",
        "         49.88116883,  49.88766234,  49.9038961 ,  49.91363636,\n",
        "         49.91363636,  49.90714286,  49.87792208,  49.82597403,\n",
        "         49.76103896,  49.70909091,  49.71883117,  49.78701299,\n",
        "         49.82272727,  49.82922078,  49.84220779,  49.87792208,\n",
        "         49.84545455,  49.78376623,  49.66038961,  49.51753247,\n",
        "         49.57922078,  49.67662338,  49.76103896,  49.8       ,\n",
        "         49.87792208,  49.8974026 ,  49.86168831,  49.80324675,\n",
        "         49.68636364,  49.65064935,  49.55324675]),\n",
        " array([ 49.58571429,  49.67662338,  49.78376623,  49.8487013 ,\n",
        "         49.86168831,  49.8974026 ,  49.87792208,  49.84220779,\n",
        "         49.78376623,  49.71883117,  49.65097403,  49.64285714,\n",
        "         49.75876623,  49.75844156,  49.81396104,  49.87402597,\n",
        "         49.88246753,  49.88051948,  49.80844156,  49.75909091,\n",
        "         49.73831169,  49.70941558,  49.63474026,  49.71493506,\n",
        "         49.76720779,  49.79545455,  49.84577922,  49.87662338,\n",
        "         49.79090909,  49.68701299,  49.56915584,  49.58636364,\n",
        "         49.6487013 ,  49.69772727,  49.80064935,  49.81428571,\n",
        "         49.89090909,  49.84935065,  49.61331169]),\n",
        " array([ 49.41233766,  49.50487013,  49.63831169,  49.69253247,\n",
        "         49.78863636,  49.83961039,  49.88051948,  49.83538961,\n",
        "         49.64448052,  49.48506494,  49.48863636,  49.53019481,\n",
        "         49.62175325,  49.6974026 ,  49.71883117,  49.76136364,\n",
        "         49.78051948,  49.84448052,  49.86168831,  49.89285714,\n",
        "         49.90032468,  49.89155844,  49.86655844,  49.80324675,\n",
        "         49.76753247,  49.7737013 ,  49.75941558,  49.77662338,\n",
        "         49.8224026 ,  49.88084416,  49.88733766,  49.90551948,\n",
        "         49.91363636,  49.90909091,  49.8974026 ,  49.87402597,\n",
        "         49.86850649,  49.7987013 ,  49.76493506]),\n",
        " array([ 49.78019481,  49.81590909,  49.83603896,  49.86298701,\n",
        "         49.89220779,  49.90064935,  49.90779221,  49.88603896,\n",
        "         49.85974026,  49.79577922,  49.7525974 ,  49.70519481,\n",
        "         49.6961039 ,  49.68344156,  49.75844156,  49.82435065,\n",
        "         49.88603896,  49.87077922,  49.7288961 ,  49.51915584,\n",
        "         49.46461039,  49.57857143,  49.63538961,  49.7038961 ,\n",
        "         49.79448052,  49.83506494,  49.8788961 ,  49.86493506,\n",
        "         49.78344156,  49.71396104,  49.59383117,  49.50876623,\n",
        "         49.60097403,  49.6974026 ,  49.70422078,  49.73798701,\n",
        "         49.78701299,  49.84675325,  49.89188312]),\n",
        " array([ 49.89967532,  49.83993506,  49.73571429,  49.60909091,\n",
        "         49.6025974 ,  49.66298701,  49.72175325,  49.77077922,\n",
        "         49.76103896,  49.81461039,  49.86071429,  49.88993506,\n",
        "         49.79155844,  49.67337662,  49.46233766,  49.5525974 ,\n",
        "         49.58376623,  49.6987013 ,  49.76850649,  49.85844156,\n",
        "         49.87694805,  49.87337662,  49.9025974 ,  49.89415584,\n",
        "         49.80876623,  49.73733766,  49.71980519,  49.70681818,\n",
        "         49.70746753,  49.74415584,  49.83116883,  49.8711039 ,\n",
        "         49.89155844,  49.89318182,  49.89058442,  49.79805195,\n",
        "         49.67662338,  49.63733766,  49.66038961]),\n",
        " array([ 49.70584416,  49.77792208,  49.82857143,  49.82694805,\n",
        "         49.87435065,  49.88279221,  49.90487013,  49.8974026 ,\n",
        "         49.83441558,  49.77727273,  49.70746753,  49.73896104,\n",
        "         49.71233766,  49.75616883,  49.7711039 ,  49.85324675,\n",
        "         49.89512987,  49.90194805,  49.90909091,  49.88246753,\n",
        "         49.75974026,  49.72824675,  49.5762987 ,  49.65194805,\n",
        "         49.70714286,  49.79155844,  49.8288961 ,  49.86753247,\n",
        "         49.89480519,  49.85941558,  49.76980519,  49.70616883,\n",
        "         49.68961039,  49.66103896,  49.70292208,  49.79772727,\n",
        "         49.84480519,  49.8775974 ]),\n",
        " array([ 49.89512987,  49.88538961,  49.79642857,  49.65487013,\n",
        "         49.54220779,  49.55779221,  49.62532468,  49.69350649,\n",
        "         49.75941558,  49.81428571,  49.86071429,  49.88246753,\n",
        "         49.80584416,  49.61298701,  49.42142857,  49.4711039 ,\n",
        "         49.4762987 ,  49.64123377,  49.68831169,  49.81136364,\n",
        "         49.86850649,  49.89935065,  49.79025974,  49.45357143,\n",
        "         49.2961039 ,  49.31363636,  49.3974026 ,  49.54902597,\n",
        "         49.73863636,  49.79155844,  49.82305195,  49.88051948,\n",
        "         49.86461039,  49.76103896,  49.60909091,  49.56980519,\n",
        "         49.5711039 ,  49.57435065]),\n",
        " array([ 49.6974026 ,  49.68993506,  49.79025974,  49.80162338,\n",
        "         49.86331169,  49.87272727,  49.82435065,  49.61331169,\n",
        "         49.40909091,  49.41168831,  49.45779221,  49.53733766,\n",
        "         49.6974026 ,  49.76461039,  49.85551948,  49.87012987,\n",
        "         49.81818182,  49.58831169,  49.40194805,  49.45064935,\n",
        "         49.44058442,  49.60746753,  49.73636364,  49.81655844,\n",
        "         49.85681818,  49.88571429,  49.84383117,  49.70487013,\n",
        "         49.61071429,  49.52532468,  49.55324675,  49.57597403,\n",
        "         49.70681818,  49.78246753,  49.81688312,  49.86428571,\n",
        "         49.88928571,  49.90422078])]"
       ]
      }
     ],
     "prompt_number": 10
    },
    {
     "cell_type": "code",
     "collapsed": false,
     "input": [
      "all_means = []\n",
      "\n",
      "for v in view['means']:\n",
      "    all_means.extend(v)\n",
      "    \n",
      "mean(all_means)"
     ],
     "language": "python",
     "metadata": {},
     "outputs": [
      {
       "metadata": {},
       "output_type": "pyout",
       "prompt_number": 11,
       "text": [
        "49.752103559870577"
       ]
      }
     ],
     "prompt_number": 11
    },
    {
     "cell_type": "code",
     "collapsed": false,
     "input": [
      "std(all_means)"
     ],
     "language": "python",
     "metadata": {},
     "outputs": [
      {
       "metadata": {},
       "output_type": "pyout",
       "prompt_number": 12,
       "text": [
        "0.13112689817735185"
       ]
      }
     ],
     "prompt_number": 12
    },
    {
     "cell_type": "code",
     "collapsed": false,
     "input": [
      "hist(all_means, bins=sqrt(len(all_means)))"
     ],
     "language": "python",
     "metadata": {},
     "outputs": [
      {
       "metadata": {},
       "output_type": "pyout",
       "prompt_number": 13,
       "text": [
        "(array([  2.,   0.,   2.,   5.,   7.,   4.,   7.,  15.,  12.,  13.,  16.,\n",
        "         32.,  26.,  37.,  31.,  42.,  58.]),\n",
        " array([ 49.2961039 ,  49.33242934,  49.36875477,  49.40508021,\n",
        "         49.44140565,  49.47773109,  49.51405653,  49.55038197,\n",
        "         49.58670741,  49.62303285,  49.65935829,  49.69568373,\n",
        "         49.73200917,  49.76833461,  49.80466005,  49.84098549,\n",
        "         49.87731092,  49.91363636]),\n",
        " <a list of 17 Patch objects>)"
       ]
      },
      {
       "metadata": {},
       "output_type": "display_data",
       "png": "[encoded data removed]",
       "text": [
        "<matplotlib.figure.Figure at 0x11547b510>"
       ]
      }
     ],
     "prompt_number": 13
    },
    {
     "cell_type": "code",
     "collapsed": false,
     "input": [
      "[(k, c.metadata[k]['started'], c.metadata[k]['pyout'], c.metadata[k]['pyerr']) for k in c.metadata.keys()]"
     ],
     "language": "python",
     "metadata": {},
     "outputs": [
      {
       "metadata": {},
       "output_type": "pyout",
       "prompt_number": 14,
       "text": [
        "[('e61b1d12-ae5a-4ba1-9e7c-edc0689ab00b',\n",
        "  datetime.datetime(2015, 8, 15, 22, 33, 14, 96859),\n",
        "  None,\n",
        "  None),\n",
        " ('adf1c52d-e4a4-4843-9382-01ebd9779630',\n",
        "  datetime.datetime(2015, 8, 15, 22, 33, 14, 98506),\n",
        "  None,\n",
        "  None),\n",
        " ('612c196d-041c-4bab-b853-870b6a0f56ff',\n",
        "  datetime.datetime(2015, 8, 15, 22, 33, 13, 982635),\n",
        "  None,\n",
        "  None),\n",
        " ('f0dfd546-81c3-451e-bb83-136fabecdbf0',\n",
        "  datetime.datetime(2015, 8, 15, 22, 33, 13, 972930),\n",
        "  None,\n",
        "  None),\n",
        " ('44d3708e-656a-499e-bb32-e82a66839ea4',\n",
        "  datetime.datetime(2015, 8, 15, 22, 33, 14, 139432),\n",
        "  None,\n",
        "  None),\n",
        " ('df9bc091-f97a-4f54-b47e-1ee6ce780ecf',\n",
        "  datetime.datetime(2015, 8, 15, 22, 33, 14, 137582),\n",
        "  None,\n",
        "  None),\n",
        " ('30ef0fc0-fe7c-4e9d-9fb8-78f15635adc5',\n",
        "  datetime.datetime(2015, 8, 15, 22, 33, 14, 78582),\n",
        "  None,\n",
        "  None),\n",
        " ('54421802-1291-4a43-8576-6d1e8137be34',\n",
        "  datetime.datetime(2015, 8, 15, 22, 33, 14, 75258),\n",
        "  None,\n",
        "  None),\n",
        " ('0df17ec8-d39f-460a-b4d3-06bc1a00e0a4',\n",
        "  datetime.datetime(2015, 8, 15, 22, 33, 14, 29255),\n",
        "  None,\n",
        "  None),\n",
        " ('1c16c2a6-6bd7-4c2e-85d1-7785943d130e',\n",
        "  datetime.datetime(2015, 8, 15, 22, 33, 14, 24754),\n",
        "  None,\n",
        "  None),\n",
        " ('d4aafb43-016d-4157-b72a-bc85a23cd861',\n",
        "  datetime.datetime(2015, 8, 15, 22, 33, 14, 97959),\n",
        "  None,\n",
        "  None),\n",
        " ('ef272977-f921-4bed-b10f-b019c96dd519',\n",
        "  datetime.datetime(2015, 8, 15, 22, 33, 14, 77674),\n",
        "  None,\n",
        "  None),\n",
        " ('341772e3-f8cf-46a1-b10c-69d24ea5cf4c',\n",
        "  datetime.datetime(2015, 8, 15, 22, 33, 14, 31025),\n",
        "  None,\n",
        "  None),\n",
        " ('29df2cf0-c3dd-4127-8883-d314a5a403d1',\n",
        "  datetime.datetime(2015, 8, 15, 22, 33, 14, 93710),\n",
        "  None,\n",
        "  None),\n",
        " ('916e78fb-c0ba-46b5-9def-8b319076cb3c',\n",
        "  datetime.datetime(2015, 8, 15, 22, 33, 14, 97642),\n",
        "  None,\n",
        "  None),\n",
        " ('2d031a47-a2d7-46f9-a1ed-814ad8879ff0',\n",
        "  datetime.datetime(2015, 8, 15, 22, 33, 14, 31657),\n",
        "  None,\n",
        "  None),\n",
        " ('3c20a239-cddd-4e66-b699-47f1870fabf0',\n",
        "  datetime.datetime(2015, 8, 15, 22, 33, 14, 87099),\n",
        "  None,\n",
        "  None),\n",
        " ('83310bda-02eb-40e6-9284-a39524f1ded0',\n",
        "  datetime.datetime(2015, 8, 15, 22, 33, 14, 135704),\n",
        "  None,\n",
        "  None),\n",
        " ('016396e9-ddf1-4590-8813-517135ec613a',\n",
        "  datetime.datetime(2015, 8, 15, 22, 33, 14, 39617),\n",
        "  None,\n",
        "  None),\n",
        " ('62f1dd09-ce62-49f5-9986-71b6ef575b68',\n",
        "  datetime.datetime(2015, 8, 15, 22, 33, 14, 27277),\n",
        "  None,\n",
        "  None),\n",
        " ('a1b7731d-a657-480b-a8c1-843df7f06661',\n",
        "  datetime.datetime(2015, 8, 15, 22, 33, 14, 84129),\n",
        "  None,\n",
        "  None),\n",
        " ('787c8fed-7cda-4d1d-a4aa-8357ccabbd4a',\n",
        "  datetime.datetime(2015, 8, 15, 22, 33, 14, 43204),\n",
        "  None,\n",
        "  None),\n",
        " ('93556b6d-0929-4e3c-a126-cc8fc9881f46',\n",
        "  datetime.datetime(2015, 8, 15, 22, 33, 14, 94001),\n",
        "  None,\n",
        "  None),\n",
        " ('e682cf58-377a-4c8c-aba9-ef771160f5b0',\n",
        "  datetime.datetime(2015, 8, 15, 22, 33, 14, 75992),\n",
        "  None,\n",
        "  None),\n",
        " ('dc076bfb-0cb4-41e7-9ef6-24ed01002cee',\n",
        "  datetime.datetime(2015, 8, 15, 22, 33, 14, 76370),\n",
        "  None,\n",
        "  None),\n",
        " ('9c2f8792-50b6-42a7-b42f-4db4a26b882b',\n",
        "  datetime.datetime(2015, 8, 15, 22, 33, 13, 975381),\n",
        "  None,\n",
        "  None),\n",
        " ('91028e66-572f-4f39-8486-892b60808df9',\n",
        "  datetime.datetime(2015, 8, 15, 22, 33, 14, 134184),\n",
        "  None,\n",
        "  None),\n",
        " ('00442400-30fd-406e-9748-458c14b3c287',\n",
        "  datetime.datetime(2015, 8, 15, 22, 33, 14, 94659),\n",
        "  None,\n",
        "  None),\n",
        " ('88f4cd47-3a88-436e-ab36-df8c243d9f0e',\n",
        "  datetime.datetime(2015, 8, 15, 22, 33, 13, 973531),\n",
        "  None,\n",
        "  None),\n",
        " ('ff004431-1ac0-4ebb-890d-178260053e47',\n",
        "  datetime.datetime(2015, 8, 15, 22, 33, 14, 40050),\n",
        "  None,\n",
        "  None),\n",
        " ('055c2177-5b9a-45c8-a4c4-06d340497509',\n",
        "  datetime.datetime(2015, 8, 15, 22, 33, 14, 132561),\n",
        "  None,\n",
        "  None),\n",
        " ('2d7b97b1-fbc1-4b63-ab53-714e3658a480',\n",
        "  datetime.datetime(2015, 8, 15, 22, 33, 14, 26936),\n",
        "  None,\n",
        "  None),\n",
        " ('e9243376-2dde-4b49-89c2-0166ef917131',\n",
        "  datetime.datetime(2015, 8, 15, 22, 33, 14, 40538),\n",
        "  None,\n",
        "  None),\n",
        " ('4dd90a5f-f489-4534-b7bd-40def150b1f5',\n",
        "  datetime.datetime(2015, 8, 15, 22, 33, 13, 982756),\n",
        "  None,\n",
        "  None),\n",
        " ('5bd315d4-2aac-444b-8e64-af8559d37619',\n",
        "  datetime.datetime(2015, 8, 15, 22, 33, 13, 978372),\n",
        "  None,\n",
        "  None),\n",
        " ('bdc028e0-283f-4b46-a6df-f35eb55e47d2',\n",
        "  datetime.datetime(2015, 8, 15, 22, 33, 14, 138292),\n",
        "  None,\n",
        "  None),\n",
        " ('e1107fbb-266b-4973-9757-9fe939a5544c',\n",
        "  datetime.datetime(2015, 8, 15, 22, 33, 14, 31204),\n",
        "  None,\n",
        "  None),\n",
        " ('d4608e59-af81-4fc1-8762-239148eac7e3',\n",
        "  datetime.datetime(2015, 8, 15, 22, 33, 13, 973138),\n",
        "  None,\n",
        "  None),\n",
        " ('1c301524-c8ad-4670-acb2-83b6e6f3e78a',\n",
        "  datetime.datetime(2015, 8, 15, 22, 33, 13, 982911),\n",
        "  None,\n",
        "  None),\n",
        " ('e1e633d0-d4c9-41d6-b2ed-22843b1b07e9',\n",
        "  datetime.datetime(2015, 8, 15, 22, 33, 14, 95091),\n",
        "  None,\n",
        "  None),\n",
        " ('af2d9017-6a51-4809-893f-048f48d56d35',\n",
        "  datetime.datetime(2015, 8, 15, 22, 33, 14, 25297),\n",
        "  None,\n",
        "  None),\n",
        " ('e396a9d9-f11f-4d1d-8181-306c6e91ad3b',\n",
        "  datetime.datetime(2015, 8, 15, 22, 33, 14, 41900),\n",
        "  None,\n",
        "  None),\n",
        " ('1025566d-1162-4141-b309-dc82811e6654',\n",
        "  datetime.datetime(2015, 8, 15, 22, 33, 14, 43573),\n",
        "  None,\n",
        "  None),\n",
        " ('4aa18950-95a2-4cc0-9ac0-c2623e5340e4',\n",
        "  datetime.datetime(2015, 8, 15, 22, 33, 14, 43936),\n",
        "  None,\n",
        "  None),\n",
        " ('453dc739-a037-48ef-a0b4-179ed3b887d9',\n",
        "  datetime.datetime(2015, 8, 15, 22, 33, 14, 131365),\n",
        "  None,\n",
        "  None),\n",
        " ('2571ee33-1f4e-4b6c-963c-e06674d19ba9',\n",
        "  datetime.datetime(2015, 8, 15, 22, 33, 14, 43219),\n",
        "  None,\n",
        "  None),\n",
        " ('c9acbc32-4f3d-4970-9bda-8695b4a70de0',\n",
        "  datetime.datetime(2015, 8, 15, 22, 33, 14, 133404),\n",
        "  None,\n",
        "  None),\n",
        " ('327eee25-55d4-47c2-b577-79dbed6558d0',\n",
        "  datetime.datetime(2015, 8, 15, 22, 33, 14, 75600),\n",
        "  None,\n",
        "  None)]"
       ]
      }
     ],
     "prompt_number": 14
    }
   ],
   "metadata": {}
  }
 ]
}
